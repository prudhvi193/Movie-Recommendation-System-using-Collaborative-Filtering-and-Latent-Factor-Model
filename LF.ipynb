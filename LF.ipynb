{
  "nbformat": 4,
  "nbformat_minor": 0,
  "metadata": {
    "colab": {
      "name": "LF (Project-4/Group-12).ipynb",
      "provenance": [],
      "collapsed_sections": [],
      "authorship_tag": "ABX9TyOesDdzRvmHq3ZE7h5CIQ7y",
      "include_colab_link": true
    },
    "kernelspec": {
      "name": "python3",
      "display_name": "Python 3"
    }
  },
  "cells": [
    {
      "cell_type": "markdown",
      "metadata": {
        "id": "view-in-github",
        "colab_type": "text"
      },
      "source": [
        "<a href=\"https://colab.research.google.com/github/prudhvi193/Movie-Recommendation-System-using-Collaborative-Filtering-and-Latent-Factor-Model/blob/main/LF.ipynb\" target=\"_parent\"><img src=\"https://colab.research.google.com/assets/colab-badge.svg\" alt=\"Open In Colab\"/></a>"
      ]
    },
    {
      "cell_type": "markdown",
      "metadata": {
        "id": "S1yyl-02JIdD"
      },
      "source": [
        "## ***Project-4 / Group-12***\n",
        "\n",
        "#### ***Name : Prudhviraj Sheela | OSU CWID : A20228857***\n",
        "\n",
        "#### ***Name : Aman Masipeddi | OSU CWID : A20198116***"
      ]
    },
    {
      "cell_type": "markdown",
      "metadata": {
        "id": "t8V-L2hr66bR"
      },
      "source": [
        "***Latent Factor Model (LF)***"
      ]
    },
    {
      "cell_type": "code",
      "metadata": {
        "id": "RCvFNAPtmZ-b"
      },
      "source": [
        "# Required dependencies and packages for the Latent Factor Model Program\n",
        "import numpy as np\n",
        "import pandas as pd\n",
        "import math\n",
        "from numpy.linalg import norm\n",
        "from sklearn.metrics import mean_squared_error\n",
        "from sklearn.metrics import mean_absolute_error\n",
        "from math import sqrt\n",
        "import csv"
      ],
      "execution_count": null,
      "outputs": []
    },
    {
      "cell_type": "markdown",
      "metadata": {
        "id": "w4mz0mznQj_9"
      },
      "source": [
        "***Loading of input data files and creation of dataframes*** \n"
      ]
    },
    {
      "cell_type": "code",
      "metadata": {
        "id": "YgrhZHCDnIw3"
      },
      "source": [
        "input_train = \"/content/training_dataset.csv\" # Loading the input training file\n",
        "read_data = pd.read_csv(input_train) # Creating a data frame for the input training data loaded\n",
        "no_users = read_data['user_id'].max() # Stroing the count of users\n",
        "no_items = read_data['item_id'].max() # Storing the count of items"
      ],
      "execution_count": null,
      "outputs": []
    },
    {
      "cell_type": "markdown",
      "metadata": {
        "id": "zw0wUzOen13B"
      },
      "source": [
        "***Initializing the P and Q matrices***"
      ]
    },
    {
      "cell_type": "code",
      "metadata": {
        "id": "PEVEsnRWNokK"
      },
      "source": [
        "k = 25 # Given value of K\n",
        "lamda = 0.1 # Given value of λ\n",
        "mu = 0.01 # Given value of μ\n",
        "algo_iterations = 40 # Given number of algorithm iterations\n",
        "maximum = np.sqrt(5/k) # Maximum size of P and Q's range as given\n",
        "P = np.random.uniform(0,maximum,(no_users,k)) # Initialized P matrix within the given range of [0,sqrt(5/k)]\n",
        "Q = np.random.uniform(0,maximum,(no_items,k)) # Initialized Q matrix within the given range of [0,sqrt(5/k)]\n",
        "Error_func = np.zeros((algo_iterations,2)) # This stores the associated error function for each iteration"
      ],
      "execution_count": null,
      "outputs": []
    },
    {
      "cell_type": "markdown",
      "metadata": {
        "id": "GZfx8hZon96c"
      },
      "source": [
        "***Computing Error functions using Stochastic Gradient Descent (SGD) method***"
      ]
    },
    {
      "cell_type": "code",
      "metadata": {
        "id": "v3UE-vrKr2xA",
        "colab": {
          "base_uri": "https://localhost:8080/"
        },
        "outputId": "11433473-f27a-4973-c28a-6461be0acf69"
      },
      "source": [
        "# Below is the process of computing Stochastic Gradient Descent (SGD)\n",
        "for iter in range(algo_iterations): # Loading the iterations\n",
        "  with open(input_train) as fi: # Accessing the contents of file from disk\n",
        "    c1 = 0\n",
        "    c2 = 0\n",
        "    Px = 0 # Normalization Variable corresponding to users\n",
        "    Qi = 0 # Normalization Variable corresponding to items\n",
        "    Err = 0 # This stores the final Error function value for the corresponding iteration\n",
        "    \n",
        "    # In the below \"for\" loop we obtain the final P and Q matrices associated to that particular iteration\n",
        "    for line in fi: # Iterating through each entry of the file\n",
        "      l = line.split(',') # Obtaining each parameters of that particular row by splitting them\n",
        "      if c1 > 0: # Initially it skips the header and then the computation starts from the first row\n",
        "        user = int(l[0])-1 # Loading each row's user id\n",
        "        item = int(l[1])-1 # Loading each row's item id\n",
        "        rating = int(l[2]) # Loading each row's rating\n",
        "        err = rating - np.dot(P[user, :],Q[item, :].T) # Computing the initial error value associated for each row entry for the corresponding iteration \n",
        "        P[user,:] += mu * (((-err) * Q[item,:]) - (lamda * P[user,:])) # Updating the P matrix according to the formula in SGD\n",
        "        Q[item,:] += mu * (((-err)* P[user,:] - lamda * Q[item,:])) # Updating the Q matrix according to the formula in SGD\n",
        "      c1 += 1 # Incrementing the count and iterating through next row in the file\n",
        "    \n",
        "    # In the below \"for\" loop once the P and Q matrices are obtained and are fixed, we calculate the Error function now based on these values\n",
        "    for line in fi: # Iterating through each entry of the file\n",
        "      l = line.split(',') # Obtaining each parameters of that particular row by splitting them\n",
        "      if c2 > 0: # Initially it skips the header and then the computation starts from the first row\n",
        "        user = int(l[0]) - 1 # Loading each row's user id\n",
        "        item = int(l[1])-1 # Loading each row's item id\n",
        "        rating = int(l[2]) # Loading each row's rating\n",
        "        Err += pow((rating - np.dot(P[user,:],Q[item,:].T)),2) # We update the initial term of the error function obtained now based on the P and Q values which are fixed for each user and item\n",
        "      c2 += 1 # Incrementing the count and iterating through next row in the file\n",
        "    \n",
        "    # In the below for loop we find the value of [(||Px||)^2] value which is the square of L2 norm for Users\n",
        "    for a in range(len(P)):\n",
        "      Px += pow(norm(P[a,:]),2)\n",
        "\n",
        "    # In the below for loop we find the value of [(||Qi||)^2] value which is the square of L2 norm for Items\n",
        "    for b in range(len(Q)):\n",
        "      Qi += pow(norm(Q[b,:]),2)\n",
        "    \n",
        "    # Below  is the error function formula for calculating the Latent Factor Model\n",
        "    Err += Err + lamda*(Px+Qi) # The final error function is obtained at the end of each iteration by substituting all the above computed values\n",
        "    Err = round(Err,2) # Rounding the value of error to \"2\" decimal places\n",
        "    Error_func[iter,:] = np.array([iter+1, Err]) # Updating the Error function array with its iteration number and error value\n",
        "  print(\"Error function for iteration number\",iter+1,\"and its value is\",Err) # Prints the results of error function associated with respect to each iteration\n"
      ],
      "execution_count": null,
      "outputs": [
        {
          "output_type": "stream",
          "text": [
            "Error function for iteration number 1 and its value is 781.72\n",
            "Error function for iteration number 2 and its value is 819.7\n",
            "Error function for iteration number 3 and its value is 836.6\n",
            "Error function for iteration number 4 and its value is 845.92\n",
            "Error function for iteration number 5 and its value is 852.02\n",
            "Error function for iteration number 6 and its value is 856.63\n",
            "Error function for iteration number 7 and its value is 860.59\n",
            "Error function for iteration number 8 and its value is 864.34\n",
            "Error function for iteration number 9 and its value is 868.17\n",
            "Error function for iteration number 10 and its value is 872.23\n",
            "Error function for iteration number 11 and its value is 876.62\n",
            "Error function for iteration number 12 and its value is 881.31\n",
            "Error function for iteration number 13 and its value is 886.25\n",
            "Error function for iteration number 14 and its value is 891.35\n",
            "Error function for iteration number 15 and its value is 896.58\n",
            "Error function for iteration number 16 and its value is 901.91\n",
            "Error function for iteration number 17 and its value is 907.32\n",
            "Error function for iteration number 18 and its value is 912.83\n",
            "Error function for iteration number 19 and its value is 918.44\n",
            "Error function for iteration number 20 and its value is 924.15\n",
            "Error function for iteration number 21 and its value is 929.94\n",
            "Error function for iteration number 22 and its value is 935.8\n",
            "Error function for iteration number 23 and its value is 941.69\n",
            "Error function for iteration number 24 and its value is 947.61\n",
            "Error function for iteration number 25 and its value is 953.53\n",
            "Error function for iteration number 26 and its value is 959.41\n",
            "Error function for iteration number 27 and its value is 965.25\n",
            "Error function for iteration number 28 and its value is 971.03\n",
            "Error function for iteration number 29 and its value is 976.72\n",
            "Error function for iteration number 30 and its value is 982.33\n",
            "Error function for iteration number 31 and its value is 987.83\n",
            "Error function for iteration number 32 and its value is 993.21\n",
            "Error function for iteration number 33 and its value is 998.49\n",
            "Error function for iteration number 34 and its value is 1003.64\n",
            "Error function for iteration number 35 and its value is 1008.66\n",
            "Error function for iteration number 36 and its value is 1013.55\n",
            "Error function for iteration number 37 and its value is 1018.32\n",
            "Error function for iteration number 38 and its value is 1022.96\n",
            "Error function for iteration number 39 and its value is 1027.46\n",
            "Error function for iteration number 40 and its value is 1031.83\n"
          ],
          "name": "stdout"
        }
      ]
    },
    {
      "cell_type": "markdown",
      "metadata": {
        "id": "YrJhy73Uns_3"
      },
      "source": [
        "***Graph plotted between Error function (E) and No.of Algorithm Iterations***"
      ]
    },
    {
      "cell_type": "code",
      "metadata": {
        "id": "DPB97PM8KVy3",
        "colab": {
          "base_uri": "https://localhost:8080/",
          "height": 369
        },
        "outputId": "b80ac0ee-da44-4540-b77c-71ef2d7ed285"
      },
      "source": [
        "# Below we have plotted the line plot between Error Function (E) v/s Number of Algorithm Iterations\n",
        "import matplotlib as mplib\n",
        "import matplotlib.pyplot as plt\n",
        "figure, axes = plt.subplots(1,1,figsize=(7,5)) # Specifying the dimensions of graph\n",
        "\n",
        "# In the below step we assign a line plot for the iteration and its associated error function\n",
        "\n",
        "axes.plot(Error_func[:,1], Error_func[:,0], 'yo-', linewidth = 2, markersize = 12, markeredgewidth = 2, label = 'Cost Function', fillstyle = 'none')\n",
        "axes.set_xlabel(\"Error Function (E)\") # Setting the x-label to Error Function\n",
        "axes.set_ylabel(\"No.of Algorithm Iterations\") # Setting the y-label to number of algorithm iterations\n",
        "axes.set_title(\"Error Function v/s No.of Algorithm Iterations\") # Setting the title\n",
        "axes.legend(loc=0) \n",
        "figure.tight_layout() # Adjusts the graph to a tight layout\n",
        "plt.show() # Displays the plot"
      ],
      "execution_count": null,
      "outputs": [
        {
          "output_type": "display_data",
          "data": {
            "image/png": "[encoded data removed]",
            "text/plain": [
              "<Figure size 504x360 with 1 Axes>"
            ]
          },
          "metadata": {
            "tags": [],
            "needs_background": "light"
          }
        }
      ]
    },
    {
      "cell_type": "markdown",
      "metadata": {
        "id": "PeQh0VBlmFzb"
      },
      "source": [
        "***Rating Predictions and Model Evaluation with Test Data***"
      ]
    },
    {
      "cell_type": "code",
      "metadata": {
        "id": "LfPdFeTZUBc1"
      },
      "source": [
        "input_test = '/content/test_dataset.csv' # Loading the test data for model evaluation\n",
        "orig_rating = [] # List for stroing original ratings from the test dataset\n",
        "predicted_rating = [] # List for stroing the predicted rating obtained from training dataset\n",
        "with open(input_test) as fi: # Accessing the test dataset content\n",
        "  c = 0\n",
        "  for line in fi: # Iterating through each row of the test dataset and find their associate original and predicted ratings\n",
        "    l = line.split(',') # Splits each rows details into a list\n",
        "    if c > 0: # Initially it skips the header and then the computation starts from the first row\n",
        "      user = int(l[0])-1 # Loading the user details\n",
        "      item = int(l[1])-1 # Loading the item details \n",
        "      orig_rating.append(int(l[2])) # Appends the original rating present in the test dataset\n",
        "      predicted_rating.append(np.dot(P[user, :],Q[item, :].T)) # Appends the predicted rating obtained from the dot product of P & Q.T(Q's transpose)\n",
        "    c += 1 # Incrementing through each row of the test file"
      ],
      "execution_count": null,
      "outputs": []
    },
    {
      "cell_type": "markdown",
      "metadata": {
        "id": "jGp0oSGUnpGT"
      },
      "source": [
        "***Computation of RMSE***"
      ]
    },
    {
      "cell_type": "code",
      "metadata": {
        "id": "lO9tkMdwQ-ih",
        "colab": {
          "base_uri": "https://localhost:8080/"
        },
        "outputId": "04fb5021-961a-471b-ee16-3a08de2f0940"
      },
      "source": [
        "# Below we get the RMSE value associated for the actual(original) and predicted ratings\n",
        "def RMSE(y_actual, y_predicted):\n",
        "  rms = sqrt(mean_squared_error(y_actual, y_predicted)) # Final RMSE value is computed for both the rating lists\n",
        "  return round(rms,4)\n",
        "rmse_lf = RMSE(orig_rating, predicted_rating) # Pass both the ratings to RMSE function\n",
        "print(\"RMSE obtained for latent factor model is \", rmse_lf) # Root mean squared error for \"lf\" is resulted"
      ],
      "execution_count": null,
      "outputs": [
        {
          "output_type": "stream",
          "text": [
            "RMSE obtained for latent factor model is  0.8953\n"
          ],
          "name": "stdout"
        }
      ]
    },
    {
      "cell_type": "markdown",
      "metadata": {
        "id": "Fk5qiMk51It4"
      },
      "source": [
        "***Comparing and Contrasting the results between CF.py and LF.py:***\n",
        "\n",
        "***I) RMSE Scores obtained for CF.py:***\n",
        "\n",
        "a) RMSE for Cosine Similarity = 1.1743\n",
        "\n",
        "b) RMSE for Adjusted Cosine Similarity = 0.8821\n",
        "\n",
        "***II) RMSE Score obtained for LF.py:***\n",
        "\n",
        "a) RMSE for Latent Factor Model = 0.8947\n",
        "\n",
        "--> On observing the above results we can check out that almost all both have the simialar RMSE scores.\n",
        "\n",
        "--> But in regards, recommending based on factors is more robust system than just finding item-item similarites.\n",
        "\n",
        "--> So, let us consider if a user has not seen a movie 'A' but the user might have seen the movies that are related to the movie 'A' which can help us in estimating the latent factors and these estimates can be used further.\n",
        "\n",
        "--> So, in general the factors are called as latent since they are present in our existing data but are not exactly evaluated until you compute the reduced rank matrix factorization (i.e, P and Q) which thereby allows the factors to emerge and hence the latency.\n",
        "\n",
        "--> Hence, we conclude that Latent Factor Model has better performance in predicting the ratings and also for obtaining a lesser RMSE scores compared to Collaborative Filtering."
      ]
    },
    {
      "cell_type": "markdown",
      "metadata": {
        "id": "idNFaYpa3bPf"
      },
      "source": [
        "***Team Members Contribution:***\n",
        "\n",
        "***Prudhviraj Sheela***\n",
        "\n",
        "--> Worked on developing the latent factor model and have computed the error function values using the Stochastic Gradient Descent (SGD) approach. \n",
        "\n",
        "--> Also, plotted the necessary graphs associated between error functions and the number of algorithms iterations.\n",
        "\n",
        "--> Obtained the RMSE Scores for the Latent Factor Model from the actual ratings and predicted ratings obtained from the test data and training data.\n",
        "\n",
        "--> Worked on the Bonus Task for building the model for (Laten Factor + Biases) and have observed the results of the model and written a comparative report between (LF and Lf+Biases).\n",
        "\n",
        "***Aman Masipeedi***\n",
        "\n",
        "--> Worked on developing the Item-Item Collaborative Filtering Model and computed the necessary utility matrices associated for both cosine and adjusted cosine similarities.\n",
        "\n",
        "--> Also, using the equations mentioned in the project details I had written a computation accordingly using them for finding the Rating Scores for both the Cosine and Adjusted Cosine Similarity Measures.\n",
        "\n",
        "--> Obtained the RMSE Scores for both the Cosine and Adjusted Cosine Similarity from the actual ratings and predicted ratings obtained from the test data and training data.\n",
        "\n",
        "--> We have also worked together on the Bonus Task for building the model for (Laten Factor + Biases) and have observed the results of the model and have written a comparative report for (LF and Lf+Biases).\n",
        "\n",
        "--> As a whole we both discussed different points on how to compare and contrast about the results obtained for both the programs and we had written the responses for it accordingly.\n"
      ]
    }
  ]
}