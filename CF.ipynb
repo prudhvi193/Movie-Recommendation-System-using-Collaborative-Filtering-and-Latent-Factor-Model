{
  "nbformat": 4,
  "nbformat_minor": 0,
  "metadata": {
    "colab": {
      "name": "CF (Project-4/Group-12).ipynb",
      "provenance": [],
      "collapsed_sections": [],
      "include_colab_link": true
    },
    "kernelspec": {
      "name": "python3",
      "display_name": "Python 3"
    }
  },
  "cells": [
    {
      "cell_type": "markdown",
      "metadata": {
        "id": "view-in-github",
        "colab_type": "text"
      },
      "source": [
        "<a href=\"https://colab.research.google.com/github/prudhvi193/Movie-Recommendation-System-using-Collaborative-Filtering-and-Latent-Factor-Model/blob/main/CF.ipynb\" target=\"_parent\"><img src=\"https://colab.research.google.com/assets/colab-badge.svg\" alt=\"Open In Colab\"/></a>"
      ]
    },
    {
      "cell_type": "markdown",
      "metadata": {
        "id": "nGOcQ2rFoYl0"
      },
      "source": [
        "## ***Project-4 / Group-12***\n",
        "\n",
        "#### ***Name : Prudhviraj Sheela | OSU CWID : A20228857***\n",
        "\n",
        "#### ***Name : Aman Masipeddi | OSU CWID : A20198116***"
      ]
    },
    {
      "cell_type": "markdown",
      "metadata": {
        "id": "_rhfK3NXjsH-"
      },
      "source": [
        "***Item-Item Collaborative Filtering (CF)***"
      ]
    },
    {
      "cell_type": "code",
      "metadata": {
        "id": "q0Cvha2xV3oO"
      },
      "source": [
        "# Required dependencies and packages for the Item-Item Collaborative Filtering Program\n",
        "import random\n",
        "import numpy as np\n",
        "import pandas as pd\n",
        "import math\n",
        "from random import randrange\n",
        "from numpy.linalg import norm\n",
        "from math import sqrt\n",
        "from sklearn.metrics import mean_squared_error"
      ],
      "execution_count": null,
      "outputs": []
    },
    {
      "cell_type": "markdown",
      "metadata": {
        "id": "dJTcumhKlZI_"
      },
      "source": [
        "***Loading of input data files and creation of dataframes*** \n"
      ]
    },
    {
      "cell_type": "code",
      "metadata": {
        "id": "OCk8OgP2Wh55"
      },
      "source": [
        "input_train = '/content/training_dataset.csv' # Loading the input training file\n",
        "input_test = '/content/test_dataset.csv' # Loading the input test file\n",
        "train_data = pd.read_csv(input_train) # Creating a data frame for the input training data loaded\n",
        "test_data = pd.read_csv(input_test) # Creating a data frame for the input test data loaded"
      ],
      "execution_count": null,
      "outputs": []
    },
    {
      "cell_type": "code",
      "metadata": {
        "id": "4IDpZhAGhrtS"
      },
      "source": [
        "# In below step we create a utility matrix and obtain all the initial variables necessary for computation\n",
        "util_mat = train_data.pivot_table(index='user_id', columns='item_id', values='rating') # Creating a pivot table using the values available in the train_data\n",
        "users_mean = [0 for a in range(util_mat.shape[0])] # Creating intial users means to 0's that are later reevaluated while finding adjusted cosine similarity\n",
        "util_mat_cossim = util_mat.copy().values # Duplicates a copy of values for initial cosine similarity utility matrix\n",
        "util_mat_adjcossim= util_mat.copy().values # Duplicates a copy of values for adjusted cosine similarity utility matrix\n",
        "items = list(util_mat.columns) # Holds the list of items or movies of the training data\n",
        "users= list(util_mat.index) # Holds the list of all users of the training data"
      ],
      "execution_count": null,
      "outputs": []
    },
    {
      "cell_type": "markdown",
      "metadata": {
        "id": "toH8EHYpqHHp"
      },
      "source": [
        "***Calculating Average Rating associated for each User ID***"
      ]
    },
    {
      "cell_type": "code",
      "metadata": {
        "id": "TYs6nJ9DhsJ0"
      },
      "source": [
        "# In the below step we obtain the user's mean associated for each index value which is used if there are any unknown ratings or 'nan' then it is assigned as a default average rating value for that particular user\n",
        "for i in range(0, util_mat.shape[0]): # Iterates through all the number of users\n",
        "  item = 0 # Stores the updated item value associated with the user\n",
        "  count = 0 # Keeps track of the iterations satisfied\n",
        "  for j in range(len(items)): # Iterates through all the item id's associated for corresponding user\n",
        "      if not math.isnan(util_mat_cossim[i][j]): # Checks if there is no null object for the associated rating and if the condition is satisfies item is computed\n",
        "          item = item + util_mat_cossim[i][j] # The item is computed for each user mean value\n",
        "          count += 1 # Incrementing the count\n",
        "  if count !=0: # Checks if the count is not zero and updates the associated users mean to its average mean\n",
        "    users_mean[i] = item / count"
      ],
      "execution_count": null,
      "outputs": []
    },
    {
      "cell_type": "markdown",
      "metadata": {
        "id": "p05dEXzLnfY4"
      },
      "source": [
        "***Cosine Similarity and Adjusted Cosine Similarity Utility Matrices Computation***"
      ]
    },
    {
      "cell_type": "code",
      "metadata": {
        "id": "n88mQhqIhtq9"
      },
      "source": [
        "for a in range(0, util_mat.shape[0]): # Iterates through all the number of users\n",
        "    for b in range(len(items)): # Iterates through all the item id's associated for corresponding user\n",
        "      if not math.isnan(util_mat_cossim[a][b]): # Checks if there is no null object for the associated user and item's rating value\n",
        "        util_mat_cossim[a][b]=util_mat_cossim[a][b] # Once the condition is satisfies the cosine similarity utility matrix is update\n",
        "        util_mat_adjcossim[a][b]=util_mat_adjcossim[a][b]- users_mean[a] # Once the condition is satisfies the cosine similarity utility matrix is updated by subtracting with the row's mean\n",
        "      else: # This condition executes if there exists a null value\n",
        "        util_mat_cossim[a][b]=0 # It assigns zero if there exists a nan values for the associated cosine similarity utility matrix\n",
        "        util_mat_adjcossim[a][b]=0 # It assigns zero if there exists a nan values for the associated adjusted cosine similarity utility matrix"
      ],
      "execution_count": null,
      "outputs": []
    },
    {
      "cell_type": "markdown",
      "metadata": {
        "id": "ovoae15brFIg"
      },
      "source": [
        "***Calculating the score for similar items***"
      ]
    },
    {
      "cell_type": "code",
      "metadata": {
        "id": "Hj1OkoFNkiNW"
      },
      "source": [
        "def item_sim(util_mat, a, b):\n",
        "  return (np.dot(util_mat[:,a],util_mat[:,b])/(norm(util_mat[:,a])*norm(util_mat[:,b]))) # We return this similarity to top_sim_items function"
      ],
      "execution_count": null,
      "outputs": []
    },
    {
      "cell_type": "markdown",
      "metadata": {
        "id": "AYFOLoVzsAcb"
      },
      "source": [
        "***Obtaining movies that are atleast 50% similar***"
      ]
    },
    {
      "cell_type": "code",
      "metadata": {
        "id": "D8vLCPCJlAgm"
      },
      "source": [
        "def top_sim_items(util_mat,items,user_index,item_index):\n",
        "  cor=0.05 # Similarity correlation factor\n",
        "  top_items_list = []\n",
        "  for a in range(len(items)): # Iterating through all the items/movies in the list\n",
        "    if a!=item_index and util_mat[user_index][a] !=0: # Checks if the similarity is not equal to zero and if the item and item's index are not equal\n",
        "      top_items_list.append((item_sim(util_mat,item_index,a),a)) # If the condition satisfies we find the item similarity associated and append it to the top items\n",
        "  top_items_list.sort(reverse=True) # We sort it in descending order for holding the higher similarity items at the top\n",
        " \n",
        "  # In the below evaluation we find atleast 50% similar items to the value of N from the items top list and check with the correlation factor\n",
        "  result=[]\n",
        "  for b in top_items_list:\n",
        "    if b[0]>=cor: # If the similarity scores is greater than or equal to 50% then we append it to result list which has the final top items \n",
        "      result.append(b)\n",
        "    else: # If the similarity score does not satisfy we just skip it\n",
        "      continue \n",
        "  return result[:25] # As an additional point to the question I have reported the top 25 items which have 50% similarity and can provide higher predicted ratings"
      ],
      "execution_count": null,
      "outputs": []
    },
    {
      "cell_type": "markdown",
      "metadata": {
        "id": "w_HcQ7Rkthtb"
      },
      "source": [
        "***Predicting Ratings associated for Cosine Similarity and Adjusted Cosine Similarity Matrices***"
      ]
    },
    {
      "cell_type": "code",
      "metadata": {
        "id": "Y1PpQNDgm13o"
      },
      "source": [
        "# Below is the function for predicting ratings for cosine similairty utility matrix\n",
        "def predict_rating_cossim(util_mat,items,user_mean, user, item):\n",
        "  use_index = users.index(user) # Storing the index of that particular user\n",
        "  if item in items:\n",
        "    ite_index = items.index(item) # Storing the index of that particular item\n",
        "    topsim = top_sim_items(util_mat, items, use_index, ite_index) # Obtains the top elements that satisfy the correlation factor\n",
        "    value1 = 0 # Stores the numerator value for the rating (Rxi) formula\n",
        "    value2 = 0 # Stores the denominator value for the rating (Rxi) formula\n",
        "    for a in topsim:\n",
        "      value1 += a[0] * util_mat[use_index][a[1]] # Multplying each top similarity score with the utility matrix original rating\n",
        "      value2 += a[0] # Stores the top similarity score\n",
        "    rates = value1 / value2 # This gives the adjusted cosine similarity rating value (Rxi) for the associated user and customer \n",
        "    rates = rates \n",
        "  else:\n",
        "    rates = user_mean[use_index] # If the rating does not exist we defaulty give the mean rating associated for that user\n",
        "  return rates\n",
        "\n",
        "# Below is the function for predicting ratings for adjusted cosine similairty utility matrix\n",
        "def predict_rating_adjcossim(util_mat,items,user_mean, user, item):\n",
        "  use_index = users.index(user) # Storing the index of that particular user\n",
        "  if item in items:\n",
        "    ite_index = items.index(item) # Storing the index of that particular item\n",
        "    topsim = top_sim_items(util_mat, items, use_index, ite_index) # Obtains the top elements that satisfy the correlation factor\n",
        "    value1 = 0 # Stores the numerator value for the rating (Rxi) formula\n",
        "    value2 = 0 # Stores the denominator value for the rating (Rxi) formula\n",
        "    for a in topsim:\n",
        "      value1 += a[0] * util_mat[use_index][a[1]] # Multplying each top similarity score with the utility matrix original rating\n",
        "      value2 += a[0] # Stores the top similarity score\n",
        "    rates = value1 / value2 # This gives the adjusted cosine similarity rating value (Rxi) for the associated user and customer \n",
        "    rates = rates + user_mean[use_index] # The overall mean is added for the associated user index to the rating\n",
        "  else:\n",
        "    rates = user_mean[use_index] # If the rating does not exist we defaulty give the mean rating associated for that user\n",
        "  return rates"
      ],
      "execution_count": null,
      "outputs": []
    },
    {
      "cell_type": "markdown",
      "metadata": {
        "id": "8EIP35FHvIe-"
      },
      "source": [
        "***Rating Predictions and Model Evaluation with Test Data***"
      ]
    },
    {
      "cell_type": "code",
      "metadata": {
        "id": "J0LLqjTf9Z8A"
      },
      "source": [
        "users_id = test_data[\"user_id\"] # Stores the values of test data users\n",
        "items_id = test_data[\"item_id\"] # Stores the values of test data items/users\n",
        "act_ratings = test_data[\"rating\"].values # Stores the values of test data rating\n",
        "cossim_predictions = [] # Stored the adjusted cosine similarity predicted ratings\n",
        "for a in range(len(users_id)): # Iterates through each user of the test data and finds its rating from below function parsed\n",
        "  cossim_predictions.append(predict_rating_cossim(util_mat_cossim,items,users_mean,users_id[i], items_id[i])) # Appends each users predicted rating to the list"
      ],
      "execution_count": null,
      "outputs": []
    },
    {
      "cell_type": "code",
      "metadata": {
        "id": "5Gjz39WqJLl6"
      },
      "source": [
        "users_id = test_data[\"user_id\"] # Stores the values of test data users\n",
        "items_id = test_data[\"item_id\"] # Stores the values of test data items/users\n",
        "act_ratings = test_data[\"rating\"].values # Stores the values of test data rating\n",
        "adjcossim_predictions = [] # Stores the adjusted cosine similarity predicted ratings\n",
        "for i in range(len(users_id)): # Iterates through each user of the test data and finds its rating from below function parsed\n",
        "  adjcossim_predictions.append(predict_rating_adjcossim(util_mat_adjcossim,items,users_mean,users_id[i], items_id[i])) # Appends each users predicted rating to the list"
      ],
      "execution_count": null,
      "outputs": []
    },
    {
      "cell_type": "markdown",
      "metadata": {
        "id": "uau6d6uqwE7m"
      },
      "source": [
        "***RMSE Calculation for Cosine Similarity and Adjusted Cosine Similarity Predicted Ratings with the Actual Ratings***"
      ]
    },
    {
      "cell_type": "code",
      "metadata": {
        "id": "0JcsrJPOgc0C",
        "colab": {
          "base_uri": "https://localhost:8080/"
        },
        "outputId": "cf8670af-99aa-4f9f-c142-670be69304dd"
      },
      "source": [
        "def RMSE(y_actual, y_predicted): # This function calculates the associated RMSE value between actual and predicted ratings\n",
        "  rms = sqrt(mean_squared_error(y_actual, y_predicted)) \n",
        "  return round(rms,4)\n",
        "rmse_cos_sim = RMSE(act_ratings, cossim_predictions) # RMSE value is obtained on passing actual and predicted ratings to the function\n",
        "print(\"RMSE obtained for Cosine Similarity is\",rmse_cos_sim)  "
      ],
      "execution_count": null,
      "outputs": [
        {
          "output_type": "stream",
          "text": [
            "RMSE obtained for Cosine Similarity is 1.1743\n"
          ],
          "name": "stdout"
        }
      ]
    },
    {
      "cell_type": "code",
      "metadata": {
        "id": "On9BCDitgr1l",
        "colab": {
          "base_uri": "https://localhost:8080/"
        },
        "outputId": "d92837c6-ccb2-45b3-f36f-5490767cb07c"
      },
      "source": [
        "rmse_adj_cos_sim = RMSE(act_ratings, adjcossim_predictions) # RMSE value is obtained on passing actual and predicted ratings to the function\n",
        "print(\"RMSE obtained for Adjusted Cosine Similarity is\",rmse_adj_cos_sim)"
      ],
      "execution_count": null,
      "outputs": [
        {
          "output_type": "stream",
          "text": [
            "RMSE obtained for Adjusted Cosine Similarity is 0.8821\n"
          ],
          "name": "stdout"
        }
      ]
    },
    {
      "cell_type": "markdown",
      "metadata": {
        "id": "3c-RWNNxxvTI"
      },
      "source": [
        "***Comparing the RMSE Scores obtained for Cosine Similarity and Adjusted Cosine Similarity:***\n",
        "\n",
        "a) RMSE for Cosine Similarity = 1.1743\n",
        "\n",
        "b) RMSE for Adjusted Cosine Similarity = 0.8821\n",
        "\n",
        "--> On observing the RMSE values obtained for both the similarity metrics it is clear that Adjusted Cosine Similarity has a lower root mean square error (RMSE) value compared to Cosine Similarity. \n",
        "\n",
        "--> So,it is clear that adjusted cosine similarity evaluates the model with accurate ratings since each user rating is subtracted from the average ratings for the pair of items provided.\n",
        "\n",
        "--> Hence we conclude that Adjusted Cosine Similarity could be a better metric for evaluating models like Item-Item Collabrative Filtering.\n",
        "\n"
      ]
    }
  ]
}